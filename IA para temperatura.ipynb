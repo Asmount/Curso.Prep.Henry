{
  "nbformat": 4,
  "nbformat_minor": 0,
  "metadata": {
    "colab": {
      "name": "Untitled0.ipynb",
      "provenance": [],
      "authorship_tag": "ABX9TyP+e0RINPy1MBGPsH02pLYX",
      "include_colab_link": true
    },
    "kernelspec": {
      "name": "python3",
      "display_name": "Python 3"
    },
    "language_info": {
      "name": "python"
    }
  },
  "cells": [
    {
      "cell_type": "markdown",
      "metadata": {
        "id": "view-in-github",
        "colab_type": "text"
      },
      "source": [
        "<a href=\"https://colab.research.google.com/github/Asmount/Curso.Prep.Henry/blob/master/IA%20para%20temperatura.ipynb\" target=\"_parent\"><img src=\"https://colab.research.google.com/assets/colab-badge.svg\" alt=\"Open In Colab\"/></a>"
      ]
    },
    {
      "cell_type": "code",
      "execution_count": 12,
      "metadata": {
        "id": "Zwi6eYF_dfhq"
      },
      "outputs": [],
      "source": [
        "import tensorflow as tf\n",
        "import numpy as np"
      ]
    },
    {
      "cell_type": "code",
      "source": [
        "celsius = np.array([-40, -10, 0, 8, 14, 15, 22, 26, 38, 110, 120, 140, 150, 170, 180, 190, 200, 220, 230, 240, 260,335, 411,10101], dtype=float)\n",
        "farentheit = np.array([-40, 14, 32, 46.4, 57.2, 59, 71.6, 78.8, 100.4, 230, 248, 284, 302, 338, 356, 374, 392, 428, 446, 464, 500, 635, 771.8, 18213.8 ], dtype=float)"
      ],
      "metadata": {
        "id": "ua28k6bEd_O8"
      },
      "execution_count": 13,
      "outputs": []
    },
    {
      "cell_type": "code",
      "source": [
        "#capa = tf.keras.layers.Dense(units=1,input_shape=[1])\n",
        "#modelo = tf.keras.Sequential([capa])\n",
        "\n",
        "oculta = tf.keras.layers.Dense(units=20, input_shape=[1])\n",
        "oculta2 = tf.keras.layers.Dense(units=40)\n",
        "salida = tf.keras.layers.Dense(units=5)\n",
        "salida1 = tf.keras.layers.Dense(units=1)\n",
        "modelo =tf.keras.Sequential([oculta,oculta2,salida,salida1])"
      ],
      "metadata": {
        "id": "ZF4PhaUgfYM4"
      },
      "execution_count": 31,
      "outputs": []
    },
    {
      "cell_type": "code",
      "source": [
        "modelo.compile(\n",
        "    optimizer=tf.keras.optimizers.Adam(0.05),\n",
        "    loss='mean_squared_error'\n",
        "    )"
      ],
      "metadata": {
        "id": "571H83jCf-Wj"
      },
      "execution_count": 36,
      "outputs": []
    },
    {
      "cell_type": "code",
      "source": [
        "print(\"Comencemos el entrenamiento\")\n",
        "historial=modelo.fit(celsius,farentheit, epochs=4000, verbose=0 )\n",
        "print(\"Entrenamiento concretado\")"
      ],
      "metadata": {
        "colab": {
          "base_uri": "https://localhost:8080/"
        },
        "id": "KKkZyaEZivxI",
        "outputId": "15ea6ba6-98b9-4ef2-af79-5c6f4b34fbb6"
      },
      "execution_count": 37,
      "outputs": [
        {
          "output_type": "stream",
          "name": "stdout",
          "text": [
            "Comencemos el entrenamiento\n",
            "Entrenamiento concretado\n"
          ]
        }
      ]
    },
    {
      "cell_type": "code",
      "source": [
        "import matplotlib.pyplot as plt\n",
        "plt.xlabel('Epoca')\n",
        "plt.ylabel('Magnitud perdida')\n",
        "plt.plot(historial.history[\"loss\"])\n"
      ],
      "metadata": {
        "colab": {
          "base_uri": "https://localhost:8080/",
          "height": 307
        },
        "id": "hBpDII2wjjiE",
        "outputId": "d572111a-566b-4e5c-cdc3-c21ceffd375d"
      },
      "execution_count": 38,
      "outputs": [
        {
          "output_type": "execute_result",
          "data": {
            "text/plain": [
              "[<matplotlib.lines.Line2D at 0x7f3136cd9550>]"
            ]
          },
          "metadata": {},
          "execution_count": 38
        },
        {
          "output_type": "display_data",
          "data": {
            "text/plain": [
              "<Figure size 432x288 with 1 Axes>"
            ],
            "image/png": "[encoded data removed]"
          },
          "metadata": {
            "needs_background": "light"
          }
        }
      ]
    },
    {
      "cell_type": "code",
      "source": [
        "print(\"hagamos una prediccion\")\n",
        "resultado = modelo.predict([-1000])\n",
        "print(\"Elresultado es\"+ str(resultado)+ \"°F\")\n"
      ],
      "metadata": {
        "colab": {
          "base_uri": "https://localhost:8080/"
        },
        "id": "wBYWFMCNkLry",
        "outputId": "d235f04c-7deb-4423-f6d6-14ebd97e0c10"
      },
      "execution_count": 44,
      "outputs": [
        {
          "output_type": "stream",
          "name": "stdout",
          "text": [
            "hagamos una prediccion\n",
            "Elresultado es[[-1768.]]°F\n"
          ]
        }
      ]
    },
    {
      "cell_type": "code",
      "source": [
        "print(\"Variables internas del modelo\")\n",
        "print(modelo.get_weights())"
      ],
      "metadata": {
        "colab": {
          "base_uri": "https://localhost:8080/"
        },
        "id": "R-y-WIuEk0Us",
        "outputId": "9e277402-3bdb-458c-c7ee-bea4cc09a492"
      },
      "execution_count": 40,
      "outputs": [
        {
          "output_type": "stream",
          "name": "stdout",
          "text": [
            "Variables internas del modelo\n",
            "[array([[-0.03762985,  0.30637887,  0.01004557,  0.19637987,  0.14309713,\n",
            "        -0.04130274,  0.05204541,  0.22603297, -0.00436144,  0.16858125,\n",
            "         0.0552738 ,  0.17766003,  0.07276735,  0.0311357 ,  0.0374921 ,\n",
            "        -0.041928  , -0.42477006,  0.18851748, -0.2364562 ,  0.37588444]],\n",
            "      dtype=float32), array([-0.8215092 ,  2.7322733 ,  2.230303  ,  0.03681748,  0.64521974,\n",
            "       -2.2879157 ,  0.87742686,  2.268003  ,  2.2475147 ,  2.882834  ,\n",
            "        0.56200904,  2.9231281 ,  0.31002495, -0.1526963 ,  1.7980767 ,\n",
            "       -1.9168797 , -2.6435752 ,  2.660733  , -2.8526287 ,  2.5222073 ],\n",
            "      dtype=float32), array([[ 1.14546262e-01,  2.59373128e-01,  1.76275909e-01,\n",
            "         4.75694925e-01, -1.06117010e-01,  9.15795565e-02,\n",
            "        -1.02627734e-02, -2.23424822e-01, -9.87216532e-02,\n",
            "         9.14317518e-02, -1.47707820e-01, -2.55940650e-02,\n",
            "         3.55907142e-01,  1.29110783e-01, -3.97888750e-01,\n",
            "        -2.24306092e-01,  4.77595925e-01,  2.84029484e-01,\n",
            "        -2.93921441e-01, -7.68219158e-02, -1.10800318e-01,\n",
            "         3.47240508e-01,  2.76498020e-01,  2.17407256e-01,\n",
            "         3.45635533e-01,  2.14361876e-01, -1.89708862e-02,\n",
            "         5.21787293e-02,  3.26448381e-01, -1.61177829e-01,\n",
            "        -2.79583987e-02, -2.09368676e-01,  3.04247051e-01,\n",
            "        -1.72539011e-01, -4.38508123e-01, -1.98796824e-01,\n",
            "         2.26666331e-02,  2.06442311e-01,  2.92067945e-01,\n",
            "        -3.33315253e-01],\n",
            "       [ 1.27474904e-01, -1.80834025e-01,  3.42824280e-01,\n",
            "         2.15470478e-01, -6.76023215e-02, -1.78784952e-01,\n",
            "         2.11707577e-01,  1.20800845e-02, -2.55490750e-01,\n",
            "        -1.38286129e-01,  2.59266347e-02, -6.39114752e-02,\n",
            "        -9.50906724e-02, -3.13387930e-01,  1.25440191e-02,\n",
            "        -1.70386121e-01, -1.24640457e-01, -3.37191969e-01,\n",
            "         4.57646310e-01, -6.96538463e-02, -2.01341495e-01,\n",
            "         1.47516906e-01,  3.49509567e-02, -2.50236958e-01,\n",
            "         4.48903590e-01, -1.27831474e-01,  5.11382148e-02,\n",
            "        -2.75392413e-01,  9.69660133e-02,  3.00548464e-01,\n",
            "        -3.22674178e-02, -6.41717985e-02,  2.07996324e-01,\n",
            "        -1.20657347e-01, -1.32691920e-01,  1.51605099e-01,\n",
            "         2.16628239e-02,  1.85314238e-01, -3.76579225e-01,\n",
            "        -2.21281081e-01],\n",
            "       [-2.75925517e-01,  2.65024871e-01,  3.83829474e-01,\n",
            "         8.93506110e-02, -1.40409738e-01,  3.59049477e-02,\n",
            "         2.55767703e-01, -7.32275397e-02,  1.04211964e-01,\n",
            "        -1.96331963e-01, -2.38879248e-01, -1.62228029e-02,\n",
            "        -1.35603681e-01, -2.45102584e-01,  1.02582328e-01,\n",
            "        -5.53677306e-02, -1.69354409e-01,  2.50539154e-01,\n",
            "         1.29417870e-02, -1.00867008e-03,  6.98528066e-02,\n",
            "         3.56708229e-01, -7.70445317e-02, -9.29164141e-02,\n",
            "         1.22393250e-01, -3.64090800e-01,  6.97635785e-02,\n",
            "        -1.27437994e-01,  2.55870461e-01,  2.83531934e-01,\n",
            "        -3.36646169e-01, -8.09726492e-02,  1.46201089e-01,\n",
            "        -2.40452230e-01, -1.93193808e-01, -1.65950850e-01,\n",
            "         2.15233207e-01, -1.00361608e-01,  2.44403169e-01,\n",
            "        -1.94894493e-01],\n",
            "       [ 1.65216312e-01,  1.52040049e-02,  3.80836189e-01,\n",
            "         3.32664609e-01,  9.54588782e-03,  2.27606833e-01,\n",
            "         3.19534242e-02, -7.33506605e-02, -1.56883955e-01,\n",
            "         2.16971990e-02,  2.22551152e-01,  2.12001443e-01,\n",
            "         1.13344356e-01, -2.10225925e-01,  3.40283960e-01,\n",
            "         2.15942129e-01, -1.69513956e-01, -1.45117939e-01,\n",
            "         1.70061648e-01, -1.31613091e-01, -2.03800127e-01,\n",
            "         1.85938254e-01,  1.73052907e-01, -1.75479576e-02,\n",
            "        -1.13851242e-01,  8.80548432e-02,  1.27786957e-02,\n",
            "         6.90064812e-03, -1.50627598e-01,  1.72111630e-01,\n",
            "        -2.38239691e-01,  8.43668133e-02, -3.04678455e-02,\n",
            "         1.59670770e-01, -7.69465566e-02, -2.04756066e-01,\n",
            "        -3.68879437e-01,  1.15061767e-01,  2.25550793e-02,\n",
            "        -6.31347373e-02],\n",
            "       [ 1.57873154e-01, -1.45798072e-01, -4.63825166e-02,\n",
            "        -3.70155610e-02,  1.79910541e-01, -3.36360753e-01,\n",
            "         1.18531175e-01,  1.75855562e-01, -1.18379354e-01,\n",
            "         2.66298354e-02,  2.81065255e-01, -2.36393794e-01,\n",
            "         3.32419813e-01,  1.13256149e-01,  1.31983519e-01,\n",
            "         5.37596904e-02,  1.02713384e-01, -2.28598788e-01,\n",
            "         1.58797234e-01, -3.10867637e-01, -1.67243049e-01,\n",
            "        -1.06204145e-01,  1.10997550e-01, -9.25886706e-02,\n",
            "        -1.01805739e-01, -2.51749307e-01, -4.96341325e-02,\n",
            "        -9.70279276e-02, -9.73864198e-02,  3.28851104e-01,\n",
            "        -2.28872687e-01,  5.81129231e-02, -1.33152083e-01,\n",
            "         2.08832130e-01,  2.88527161e-01,  2.00916350e-01,\n",
            "        -2.34395638e-02,  2.81909049e-01, -3.27580363e-01,\n",
            "         7.52060860e-02],\n",
            "       [-4.16552536e-02,  2.41104320e-01,  1.48497820e-02,\n",
            "         1.62670583e-01,  1.54367939e-01,  3.66807245e-02,\n",
            "         6.10913783e-02,  2.51807004e-01, -1.96290761e-01,\n",
            "         2.15363666e-01,  2.65614361e-01,  3.37932825e-01,\n",
            "         1.92319781e-01, -1.95588902e-01, -8.22400674e-02,\n",
            "        -2.10185230e-01, -1.83780089e-01,  2.98338711e-01,\n",
            "         2.64754705e-02,  1.18867770e-01, -4.41561337e-04,\n",
            "        -2.73282707e-01, -2.78027475e-01,  2.62950689e-01,\n",
            "         2.28055450e-03,  2.56530214e-02, -6.87761754e-02,\n",
            "         1.07878976e-01, -1.37931868e-01, -1.75633892e-01,\n",
            "        -1.20747611e-02, -1.27396122e-01,  1.29888862e-01,\n",
            "         3.00595343e-01,  4.59888466e-02, -2.01215133e-01,\n",
            "        -3.57055776e-02,  9.71668214e-03,  2.77156055e-01,\n",
            "         1.70204602e-02],\n",
            "       [ 7.14765042e-02, -4.26221937e-02,  7.46734962e-02,\n",
            "        -6.94346875e-02,  2.27155164e-01,  2.11559236e-01,\n",
            "         2.22906023e-01,  2.36225314e-02, -1.30416885e-01,\n",
            "        -7.00092614e-02, -1.48286059e-01,  1.97137460e-01,\n",
            "        -1.31154403e-01,  2.01316223e-01,  2.43610963e-02,\n",
            "         5.16686663e-02,  1.09306410e-01, -2.98635364e-01,\n",
            "        -7.64455125e-02,  9.04980302e-02, -1.25062436e-01,\n",
            "         1.31486967e-01, -2.87773371e-01, -1.16568528e-01,\n",
            "         6.38947412e-02,  7.62853995e-02,  3.04802269e-01,\n",
            "         3.44628185e-01, -1.63285155e-02,  7.19355121e-02,\n",
            "        -1.98375061e-01, -3.08212060e-02, -2.72611320e-01,\n",
            "        -2.44071200e-01,  3.91614772e-02,  2.01293424e-01,\n",
            "        -1.23738132e-01, -1.50365695e-01,  2.69496799e-01,\n",
            "         2.47950450e-01],\n",
            "       [ 2.45102093e-01,  1.77153900e-01,  1.40124917e-01,\n",
            "         1.55796811e-01,  1.48222372e-01, -2.47595847e-01,\n",
            "         7.88239613e-02, -4.10053849e-01, -1.98673084e-01,\n",
            "        -2.93890595e-01,  9.91455615e-02, -3.00701290e-01,\n",
            "         1.61593333e-02, -2.07753807e-01,  6.26639929e-03,\n",
            "        -3.54303598e-01,  1.55580923e-01, -6.48370385e-02,\n",
            "         2.60944247e-01, -4.66318011e-01, -3.56823727e-02,\n",
            "         3.89532387e-01,  3.95470083e-01,  1.52796298e-01,\n",
            "        -5.05487174e-02, -1.43835142e-01,  1.01611085e-01,\n",
            "         8.10669549e-03,  4.27766085e-01,  1.81801766e-01,\n",
            "        -4.18585688e-01, -2.74492592e-01,  3.48162979e-01,\n",
            "         1.00007586e-01,  1.36244163e-01,  1.34851903e-01,\n",
            "        -2.51337886e-01,  2.73926079e-01, -2.07528487e-01,\n",
            "         2.14724436e-01],\n",
            "       [-2.34472603e-01,  3.42041582e-01,  5.18037491e-02,\n",
            "        -1.41657978e-01,  1.67852845e-02, -1.65814042e-01,\n",
            "        -2.55439728e-01,  3.03205289e-02, -1.32195041e-01,\n",
            "         5.38766347e-02,  1.78997576e-01, -5.15477881e-02,\n",
            "         1.51961476e-01, -8.97710621e-02,  2.37494167e-02,\n",
            "        -3.93838763e-01,  3.03082138e-01,  1.37670726e-01,\n",
            "         6.04684874e-02, -2.25261622e-03,  1.92594141e-01,\n",
            "        -6.80037662e-02,  1.43069640e-01,  3.48418020e-02,\n",
            "         2.11468056e-01,  7.59356096e-02,  6.21295068e-03,\n",
            "         1.65134333e-02,  9.09627229e-02,  6.27000853e-02,\n",
            "        -3.81402932e-02, -2.34975666e-01,  2.51836985e-01,\n",
            "        -3.02200168e-01,  2.80040950e-01,  2.69780338e-01,\n",
            "         8.70313048e-02, -3.13981436e-02,  4.78662737e-03,\n",
            "        -3.66056532e-01],\n",
            "       [-5.08109145e-02, -3.84929813e-02,  2.49868585e-03,\n",
            "        -2.11271048e-01, -2.45213658e-01,  1.69902131e-01,\n",
            "        -6.47718087e-02,  1.39363825e-01, -1.07061625e-01,\n",
            "        -2.95408905e-01,  2.15935171e-01, -3.51947844e-01,\n",
            "        -1.97008818e-01, -4.98840511e-02, -8.23381245e-02,\n",
            "        -4.18012291e-02,  1.01947606e-01,  5.17742261e-02,\n",
            "         3.52250516e-01, -7.59622678e-02,  1.44069344e-01,\n",
            "         7.66958743e-02, -2.00899392e-02, -2.83783019e-01,\n",
            "         3.11765552e-01,  5.33488952e-02, -4.09730136e-01,\n",
            "        -1.69688851e-01, -2.03547552e-01,  3.60810220e-01,\n",
            "         2.02353433e-01,  3.17236781e-02, -1.35995090e-01,\n",
            "         1.86668888e-01, -2.42549591e-02,  6.39426559e-02,\n",
            "        -3.19974035e-01,  8.10710490e-02,  1.18658341e-01,\n",
            "         1.66499928e-01],\n",
            "       [-7.40020275e-02,  9.61425230e-02, -2.75629044e-01,\n",
            "        -2.81199694e-01, -2.54934430e-01,  8.04790333e-02,\n",
            "        -6.35832101e-02, -7.93257281e-02,  2.13851482e-02,\n",
            "         6.43068105e-02,  3.68855566e-01,  1.60597757e-01,\n",
            "        -3.36051136e-01, -2.05446362e-01,  1.29581364e-02,\n",
            "        -4.52759899e-02,  8.33647177e-02, -1.73396990e-01,\n",
            "         9.72369686e-02,  5.68919957e-01,  6.14214316e-02,\n",
            "        -7.18073398e-02,  9.17301401e-02,  2.99386770e-01,\n",
            "        -1.66201279e-01, -1.60847962e-01, -1.36948660e-01,\n",
            "        -1.04299821e-01,  1.52572840e-01, -2.90585700e-02,\n",
            "        -2.15166599e-01,  2.84389526e-01,  1.61251247e-01,\n",
            "         2.74660915e-01, -1.71102077e-01, -3.64247292e-01,\n",
            "         6.89253807e-02,  8.80339071e-02,  3.05554438e-02,\n",
            "         2.60411859e-01],\n",
            "       [-2.63625514e-02,  1.50247961e-01, -1.69123113e-01,\n",
            "         2.34141260e-01,  1.30944073e-01, -1.62883282e-01,\n",
            "         2.08407775e-01, -2.11758241e-01, -1.58020034e-01,\n",
            "         2.11885065e-01, -6.15704060e-02,  1.85667932e-01,\n",
            "         2.80496627e-01, -1.13393933e-01,  1.09980270e-01,\n",
            "        -6.32814318e-02, -2.19515041e-01, -3.06497633e-01,\n",
            "         3.59939069e-01, -2.98174232e-01,  3.23388219e-01,\n",
            "         8.09906200e-02, -9.98779433e-04,  7.89308269e-03,\n",
            "         1.96311902e-02, -6.07244670e-02, -1.89140901e-01,\n",
            "         2.28231668e-01, -9.98438671e-02,  1.93807170e-01,\n",
            "        -8.08414221e-02, -2.72539049e-01,  8.34135562e-02,\n",
            "        -2.63726383e-01,  1.97918825e-02, -7.76797757e-02,\n",
            "        -1.58174247e-01,  2.25144811e-02, -1.61769077e-01,\n",
            "         5.81242107e-02],\n",
            "       [-7.43161812e-02, -1.95654586e-01,  1.02072202e-01,\n",
            "        -1.92163631e-01,  1.59472570e-01, -2.25691020e-01,\n",
            "         1.01872750e-01,  1.19861856e-01, -1.83356889e-02,\n",
            "         1.81007326e-01, -2.28851154e-01, -3.64199966e-01,\n",
            "        -1.21516116e-01, -1.61642045e-01,  2.18888849e-01,\n",
            "        -1.27364337e-01,  2.58021057e-01, -2.96830326e-01,\n",
            "        -2.80294288e-02, -1.45129651e-01, -2.01411754e-01,\n",
            "         2.53190875e-01, -1.72580272e-01,  1.26986280e-01,\n",
            "         2.37397030e-02, -1.77024409e-01,  1.78432852e-01,\n",
            "        -7.69301206e-02, -8.94845556e-03,  5.36837541e-02,\n",
            "        -3.55772167e-01,  1.38621062e-01,  2.91338146e-01,\n",
            "        -3.73747319e-01, -1.54723719e-01,  9.37452540e-02,\n",
            "        -4.40080166e-02, -2.56745089e-02, -6.02301657e-02,\n",
            "         1.11908533e-01],\n",
            "       [-2.47595951e-01,  3.36164385e-02, -1.70092627e-01,\n",
            "        -2.29054883e-01, -2.16640398e-01,  1.94582760e-01,\n",
            "        -6.99312910e-02,  1.74146727e-01,  1.25363722e-01,\n",
            "        -3.16658437e-01,  2.30573528e-02,  2.58444667e-01,\n",
            "         1.35298267e-01, -2.97869742e-01, -2.14235067e-01,\n",
            "        -3.83071378e-02, -3.36351059e-02,  1.43080190e-01,\n",
            "         2.93019742e-01, -2.02659458e-01,  3.28946084e-01,\n",
            "        -1.52107075e-01, -5.38605973e-02,  7.46291317e-03,\n",
            "        -4.91530448e-02, -9.40448791e-02, -7.82937557e-02,\n",
            "         1.81489661e-01,  1.55562222e-01,  3.75023514e-01,\n",
            "        -2.96400189e-02, -3.05047542e-01,  3.34453851e-01,\n",
            "        -2.96024442e-01,  8.89146850e-02, -5.87153360e-02,\n",
            "         2.30693638e-01, -2.65355557e-01, -1.19126469e-01,\n",
            "        -4.03686285e-01],\n",
            "       [-9.54811946e-02, -9.31373537e-02, -3.69840413e-01,\n",
            "        -1.28659829e-01,  2.95727074e-01,  5.56399524e-01,\n",
            "        -2.86190301e-01,  2.48945743e-01, -1.52112007e-01,\n",
            "         2.69174576e-01,  6.00811839e-01,  1.93428114e-01,\n",
            "        -2.46795759e-01, -2.93316334e-01,  1.69341043e-01,\n",
            "         5.55105209e-01, -1.96275383e-01, -5.68352751e-02,\n",
            "         1.92395732e-01, -4.40962076e-01,  5.71838990e-02,\n",
            "         1.79569468e-01, -8.08369592e-02, -5.26502170e-02,\n",
            "        -2.44623512e-01, -3.51611435e-01,  2.41078645e-01,\n",
            "         4.74558800e-01, -4.09859210e-01,  2.14885354e-01,\n",
            "        -4.17603701e-01, -8.27182680e-02, -3.18289131e-01,\n",
            "        -3.58588547e-02,  3.03371787e-01, -2.33946905e-01,\n",
            "        -1.70499578e-01,  2.02301681e-01, -7.74151608e-02,\n",
            "         2.34536156e-01],\n",
            "       [-4.90118079e-02,  7.55840819e-03,  4.97663803e-02,\n",
            "        -2.19713494e-01,  2.40698576e-01, -1.03384830e-01,\n",
            "         4.81430180e-02,  2.49747820e-02, -1.69827253e-01,\n",
            "        -8.90507624e-02, -2.28391498e-01,  2.20770001e-01,\n",
            "         1.65653735e-01,  2.95400321e-01, -4.15996984e-02,\n",
            "        -4.09120508e-02, -1.11478895e-01,  2.30968967e-01,\n",
            "         1.70572132e-01,  4.99071814e-02,  2.33197466e-01,\n",
            "        -1.18741244e-01,  7.21622407e-02, -1.32819533e-01,\n",
            "        -1.05992571e-01, -3.37068625e-02,  3.31719697e-01,\n",
            "        -3.53368409e-02, -3.37907493e-01,  1.55488297e-01,\n",
            "        -9.50307474e-02, -1.72969908e-01,  2.11882174e-01,\n",
            "         2.39595592e-01,  1.07910447e-01, -3.75480175e-01,\n",
            "         2.29976043e-01, -7.21812248e-02,  3.39700699e-01,\n",
            "        -1.52566329e-01],\n",
            "       [ 9.15900618e-02, -1.26578053e-02, -2.32689396e-01,\n",
            "         5.47589175e-03,  2.79477268e-01, -4.91129458e-02,\n",
            "        -9.36078578e-02,  1.86942428e-01,  2.06897318e-01,\n",
            "        -1.43999204e-01, -6.97719976e-02,  1.71649680e-01,\n",
            "         2.03461990e-01,  3.40055734e-01,  1.53068841e-01,\n",
            "         1.54462054e-01,  1.26700655e-01, -1.56451136e-01,\n",
            "        -2.60801405e-01,  4.19679672e-01,  6.69654235e-02,\n",
            "         1.31731436e-01, -2.58582979e-01, -9.64392126e-02,\n",
            "        -1.52274296e-01, -6.10087961e-02,  3.61649811e-01,\n",
            "        -3.37629706e-01,  2.49966923e-02, -3.28400105e-01,\n",
            "        -2.21323460e-01,  2.11132929e-01,  1.34721711e-01,\n",
            "         2.78398842e-01,  1.77223876e-01, -5.02222031e-02,\n",
            "         2.48022273e-01, -1.06970519e-01,  1.28001049e-01,\n",
            "         1.13681577e-01],\n",
            "       [ 1.41072925e-02,  1.92424551e-01, -9.48188826e-02,\n",
            "         1.72783554e-01,  2.26584673e-01,  1.76180974e-01,\n",
            "         2.53028780e-01,  1.05607927e-01, -4.78712827e-01,\n",
            "        -1.56886518e-01, -1.80721998e-01,  9.36836600e-02,\n",
            "         2.35694408e-01, -3.42159659e-01,  4.12847921e-02,\n",
            "        -4.05358404e-01, -4.51546423e-02, -3.04356009e-01,\n",
            "         1.39457151e-01, -4.27628934e-01,  2.50532359e-01,\n",
            "         7.83463046e-02,  1.09098427e-01,  1.97714567e-01,\n",
            "         2.63429396e-02, -3.93076926e-01, -1.55620296e-02,\n",
            "        -1.17030598e-01, -1.08241849e-01,  1.10438496e-01,\n",
            "        -6.47187084e-02, -1.39411807e-01,  6.90767393e-02,\n",
            "        -1.90509588e-01,  1.83618858e-01,  3.86972964e-01,\n",
            "        -3.03784311e-01,  2.59914756e-01, -4.09724057e-01,\n",
            "         1.90311968e-01],\n",
            "       [-1.08851239e-01, -1.51948243e-01, -2.79559851e-01,\n",
            "        -1.76618189e-01, -2.11934134e-01,  3.08463991e-01,\n",
            "         3.89610007e-02, -1.08054942e-02,  2.84758359e-01,\n",
            "        -2.00242147e-01,  3.28309029e-01, -2.29147561e-02,\n",
            "        -2.29900301e-01, -4.37646359e-02, -4.89359379e-01,\n",
            "         3.22949916e-01, -3.05704940e-02,  1.05816625e-01,\n",
            "        -3.26377124e-01, -6.72912151e-02, -2.17602551e-01,\n",
            "        -3.10459584e-01, -1.44852147e-01, -3.41298491e-01,\n",
            "         7.63446614e-02,  1.96795017e-01, -4.85804230e-02,\n",
            "        -2.11810395e-01, -1.80013001e-01, -1.42233044e-01,\n",
            "         1.46103993e-01,  1.59372792e-01, -1.38158724e-02,\n",
            "         3.29272509e-01, -2.13864997e-01, -4.49034572e-01,\n",
            "        -2.80828979e-02, -3.25228809e-03,  4.19722825e-01,\n",
            "        -1.93748251e-01],\n",
            "       [ 8.11944082e-02,  3.07819217e-01,  3.15318316e-01,\n",
            "        -7.01303408e-02, -2.73071498e-01,  5.81545644e-02,\n",
            "        -1.18736345e-02, -2.76405156e-01, -1.85892835e-01,\n",
            "        -3.42053249e-02, -2.25049436e-01, -2.57131100e-01,\n",
            "         2.21621874e-03, -2.34293029e-01,  3.46801996e-01,\n",
            "         2.44088948e-01,  2.63879579e-02, -3.01554888e-01,\n",
            "         2.32487358e-02, -1.47194117e-01, -7.17579350e-02,\n",
            "         3.22453454e-02,  2.41937101e-01,  9.93299782e-02,\n",
            "         1.17693983e-01, -1.83862001e-01,  1.53209031e-01,\n",
            "         1.68018892e-01,  4.24368232e-02,  4.44652557e-01,\n",
            "        -3.18621844e-02, -7.29050264e-02,  2.80441850e-01,\n",
            "        -3.03674638e-01,  1.73682883e-01,  3.76043499e-01,\n",
            "         1.56066000e-01,  1.95108578e-01,  1.09799422e-01,\n",
            "         2.80520737e-01]], dtype=float32), array([-0.30094156,  1.8529944 ,  2.6953373 ,  1.686727  , -1.4796557 ,\n",
            "       -1.045494  ,  1.5830326 , -1.870592  , -1.9825722 , -1.2909621 ,\n",
            "       -0.51657486, -1.5996218 ,  0.20623848, -2.1061282 ,  2.0681422 ,\n",
            "       -1.7801605 ,  0.663485  , -2.4411755 ,  2.088683  , -1.1040602 ,\n",
            "       -1.5971159 ,  1.5824873 ,  1.9015248 ,  1.8099285 ,  2.5482001 ,\n",
            "        1.3005583 , -0.9147881 , -1.2248938 ,  0.66346645,  2.333319  ,\n",
            "       -1.4373006 , -1.2100482 ,  0.87986124, -2.3196313 , -1.6433406 ,\n",
            "        1.9078658 ,  0.18820933,  2.3870833 , -2.670844  ,  0.6754704 ],\n",
            "      dtype=float32), array([[ 0.2536614 , -0.17340155, -0.0934886 ,  0.26755914,  0.44503805],\n",
            "       [-0.2976177 , -0.14342393,  0.23448732,  0.16377352, -0.32572216],\n",
            "       [-0.4658719 , -0.13728054, -0.07391848,  0.40068436, -0.32353765],\n",
            "       [-0.02077326,  0.1353271 ,  0.0134834 ,  0.10243987, -0.38672918],\n",
            "       [ 0.22551711, -0.05888422, -0.09238843, -0.06720261, -0.03491911],\n",
            "       [-0.12607153,  0.14340456, -0.02942658, -0.00228019,  0.40325773],\n",
            "       [ 0.07589501,  0.10524806, -0.03416647,  0.14256755,  0.06162419],\n",
            "       [ 0.4618651 , -0.22362772, -0.23871408, -0.1187871 ,  0.24310082],\n",
            "       [ 0.45366213, -0.03606389, -0.12992936, -0.17950632,  0.10778648],\n",
            "       [ 0.19288312, -0.0792837 , -0.20015438, -0.04992607,  0.23065266],\n",
            "       [-0.06586792,  0.10669488,  0.20775886,  0.15646653,  0.29400355],\n",
            "       [-0.29087776, -0.36713275,  0.36221525, -0.13995424, -0.24642447],\n",
            "       [ 0.20492625, -0.2925456 , -0.1622435 , -0.08977135, -0.13119154],\n",
            "       [-0.22392142, -0.28400585,  0.22574723, -0.4187707 ,  0.10241453],\n",
            "       [-0.00617403,  0.0140075 ,  0.18618558,  0.17026357, -0.11076301],\n",
            "       [ 0.36238638,  0.13054962,  0.07874529, -0.01259105,  0.21212074],\n",
            "       [-0.04870093, -0.06000317,  0.17285259,  0.00707282, -0.03655431],\n",
            "       [ 0.18968071, -0.03632157,  0.1625211 , -0.24809855, -0.08738879],\n",
            "       [ 0.07982265,  0.36741132, -0.4067598 ,  0.38079226, -0.09354951],\n",
            "       [-0.02302814,  0.25099903,  0.4188584 , -0.08320511,  0.12958802],\n",
            "       [-0.1652186 , -0.44362006, -0.02404959, -0.02258578, -0.25821677],\n",
            "       [-0.15282081, -0.17936534,  0.17141259,  0.13665217, -0.20033643],\n",
            "       [-0.45662683, -0.0094152 , -0.17277753,  0.25173116, -0.0768216 ],\n",
            "       [-0.4841608 , -0.12896958,  0.37489825,  0.17226975, -0.09758572],\n",
            "       [-0.34483662, -0.34350583, -0.13078529,  0.21910167, -0.50367224],\n",
            "       [ 0.15671396,  0.29702252,  0.01119936,  0.02630615, -0.31973976],\n",
            "       [ 0.09025301, -0.02255767, -0.16113079,  0.01244748, -0.11717946],\n",
            "       [ 0.47884393, -0.19872631,  0.20734662,  0.13707413,  0.11979992],\n",
            "       [ 0.0954025 ,  0.02090493,  0.28579816, -0.00437938,  0.06257226],\n",
            "       [-0.07060181,  0.31098786, -0.43447053,  0.49804112, -0.18598446],\n",
            "       [ 0.07139109, -0.190804  ,  0.0267038 , -0.03133146,  0.03804323],\n",
            "       [-0.09475237, -0.11124147, -0.06273896, -0.03577718,  0.15144366],\n",
            "       [ 0.19060408,  0.006838  ,  0.47689378,  0.09983827, -0.42151538],\n",
            "       [-0.31103647,  0.26519117,  0.14401758, -0.35245264, -0.0432285 ],\n",
            "       [ 0.0817759 ,  0.18700376,  0.1477248 , -0.02276959,  0.4095984 ],\n",
            "       [ 0.28225312,  0.071719  , -0.32609066,  0.35788646,  0.16096886],\n",
            "       [-0.1064969 , -0.02017741,  0.2642146 , -0.19046324, -0.12918784],\n",
            "       [ 0.05784967,  0.07260708, -0.03381764,  0.14952314,  0.00807899],\n",
            "       [ 0.14998053,  0.27444902, -0.03936449, -0.39841256,  0.1402751 ],\n",
            "       [-0.11640633,  0.08276422, -0.11157279,  0.04355637,  0.01677117]],\n",
            "      dtype=float32), array([-0.01659954,  1.6023463 , -1.8897595 ,  2.3702676 ,  0.20664234],\n",
            "      dtype=float32), array([[-0.10038447],\n",
            "       [ 0.09573262],\n",
            "       [-0.1913244 ],\n",
            "       [ 0.6463279 ],\n",
            "       [-0.0803128 ]], dtype=float32), array([2.7066007], dtype=float32)]\n"
          ]
        }
      ]
    }
  ]
}