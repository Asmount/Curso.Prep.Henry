{
  "nbformat": 4,
  "nbformat_minor": 0,
  "metadata": {
    "colab": {
      "name": "Untitled0.ipynb",
      "provenance": [],
      "authorship_tag": "ABX9TyNxo9bzhl3jCwwV8ELXQVSs",
      "include_colab_link": true
    },
    "kernelspec": {
      "name": "python3",
      "display_name": "Python 3"
    },
    "language_info": {
      "name": "python"
    }
  },
  "cells": [
    {
      "cell_type": "markdown",
      "metadata": {
        "id": "view-in-github",
        "colab_type": "text"
      },
      "source": [
        "<a href=\"https://colab.research.google.com/github/Asmount/Curso.Prep.Henry/blob/master/IA%20para%20temperatura.ipynb\" target=\"_parent\"><img src=\"https://colab.research.google.com/assets/colab-badge.svg\" alt=\"Open In Colab\"/></a>"
      ]
    },
    {
      "cell_type": "code",
      "execution_count": 2,
      "metadata": {
        "id": "Zwi6eYF_dfhq"
      },
      "outputs": [],
      "source": [
        "import tensorflow as tf\n",
        "import numpy as np"
      ]
    },
    {
      "cell_type": "code",
      "source": [
        "celsius = np.array([-40, -10, 0, 8, 14, 15, 22, 26, 38, 110, 120, 140, 150, 170, 180, 190, 200, 220, 230, 240, 260,335, 411,10101], dtype=float)\n",
        "farentheit = np.array([-40, 14, 32, 46.4, 57.2, 59, 71.6, 78.8, 100.4, 230, 248, 284, 302, 338, 356, 374, 392, 428, 446, 464, 500, 635, 771.8, 18213.8 ], dtype=float)"
      ],
      "metadata": {
        "id": "ua28k6bEd_O8"
      },
      "execution_count": 76,
      "outputs": []
    },
    {
      "cell_type": "code",
      "source": [
        "#capa = tf.keras.layers.Dense(units=1,input_shape=[1])\n",
        "#modelo = tf.keras.Sequential([capa])\n",
        "\n",
        "oculta = tf.keras.layers.Dense(units=5, input_shape=[1])\n",
        "oculta2 = tf.keras.layers.Dense(units=5)\n",
        "salida = tf.keras.layers.Dense(units=2)\n",
        "salida1 = tf.keras.layers.Dense(units=1)\n",
        "modelo =tf.keras.Sequential([oculta,oculta2,salida,salida1])"
      ],
      "metadata": {
        "id": "ZF4PhaUgfYM4"
      },
      "execution_count": 94,
      "outputs": []
    },
    {
      "cell_type": "code",
      "source": [
        "modelo.compile(\n",
        "    optimizer=tf.keras.optimizers.Adam(0.5),\n",
        "    loss='mean_squared_error'\n",
        "    )"
      ],
      "metadata": {
        "id": "571H83jCf-Wj"
      },
      "execution_count": 95,
      "outputs": []
    },
    {
      "cell_type": "code",
      "source": [
        "print(\"Comencemos el entrenamiento\")\n",
        "historial=modelo.fit(celsius,farentheit, epochs=4000, verbose=0 )\n",
        "print(\"Entrenamiento concretado\")"
      ],
      "metadata": {
        "colab": {
          "base_uri": "https://localhost:8080/"
        },
        "id": "KKkZyaEZivxI",
        "outputId": "503d3600-f987-4c12-d626-0cd7af8db8ef"
      },
      "execution_count": 96,
      "outputs": [
        {
          "output_type": "stream",
          "name": "stdout",
          "text": [
            "Comencemos el entrenamiento\n",
            "Entrenamiento concretado\n"
          ]
        }
      ]
    },
    {
      "cell_type": "code",
      "source": [
        "import matplotlib.pyplot as plt\n",
        "plt.xlabel('Epoca')\n",
        "plt.ylabel('Magnitud perdida')\n",
        "plt.plot(historial.history[\"loss\"])\n"
      ],
      "metadata": {
        "colab": {
          "base_uri": "https://localhost:8080/",
          "height": 307
        },
        "id": "hBpDII2wjjiE",
        "outputId": "c58fa9c3-af49-4055-9b9f-38cb6530f323"
      },
      "execution_count": 97,
      "outputs": [
        {
          "output_type": "execute_result",
          "data": {
            "text/plain": [
              "[<matplotlib.lines.Line2D at 0x7f9a0771d410>]"
            ]
          },
          "metadata": {},
          "execution_count": 97
        },
        {
          "output_type": "display_data",
          "data": {
            "text/plain": [
              "<Figure size 432x288 with 1 Axes>"
            ],
            "image/png": "[encoded data removed]"
          },
          "metadata": {
            "needs_background": "light"
          }
        }
      ]
    },
    {
      "cell_type": "code",
      "source": [
        "print(\"hagamos una prediccion\")\n",
        "resultado = modelo.predict([100.0])\n",
        "print(\"Elresultado es\"+ str(resultado)+ \"°F\")\n"
      ],
      "metadata": {
        "colab": {
          "base_uri": "https://localhost:8080/"
        },
        "id": "wBYWFMCNkLry",
        "outputId": "3a84ca9d-50b5-430d-c3ba-913d6a42f915"
      },
      "execution_count": 98,
      "outputs": [
        {
          "output_type": "stream",
          "name": "stdout",
          "text": [
            "hagamos una prediccion\n",
            "Elresultado es[[212.00003]]°F\n"
          ]
        }
      ]
    },
    {
      "cell_type": "code",
      "source": [
        "print(\"Variables internas del modelo\")\n",
        "print(capa.get_weights())"
      ],
      "metadata": {
        "colab": {
          "base_uri": "https://localhost:8080/"
        },
        "id": "R-y-WIuEk0Us",
        "outputId": "b0bbc221-e966-4ea2-a50b-30998c33f7a5"
      },
      "execution_count": 99,
      "outputs": [
        {
          "output_type": "stream",
          "name": "stdout",
          "text": [
            "Variables internas del modelo\n",
            "[array([[1.8003186]], dtype=float32), array([32.000305], dtype=float32)]\n"
          ]
        }
      ]
    }
  ]
}